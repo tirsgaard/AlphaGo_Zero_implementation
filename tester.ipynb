{
 "cells": [
  {
   "cell_type": "code",
   "execution_count": 1,
   "metadata": {},
   "outputs": [
    {
     "name": "stdout",
     "output_type": "stream",
     "text": [
      "***** Board initialising tests *****\n",
      "\u001b[32mBoard test succesfull\u001b[0m\n",
      "\u001b[32mLiberty test succesfull\u001b[0m\n",
      "***** Basic tests *****\n",
      "\u001b[32mBoard test succesfull\u001b[0m\n",
      "\u001b[32mLiberty test succesfull\u001b[0m\n",
      "***** Group tests *****\n",
      "\u001b[32mBoard test succesfull\u001b[0m\n",
      "\u001b[32mLiberty test succesfull\u001b[0m\n",
      "***** Capture tests *****\n",
      "Non-self capture test\n",
      "\u001b[32mBoard test succesfull\u001b[0m\n",
      "\u001b[32mLiberty test succesfull\u001b[0m\n",
      "Double capture\n",
      "\u001b[32mBoard test succesfull\u001b[0m\n",
      "\u001b[32mLiberty test succesfull\u001b[0m\n",
      "Checking Ko\n",
      "\u001b[32mKo obeyd\u001b[0m\n",
      "\u001b[32mKo correctly ignored\u001b[0m\n",
      "Checking legal move checker\n",
      "Checking game score counter\n",
      "\u001b[32mCounted score was correct \u001b[0m\n",
      "Checking game copy mechanism\n",
      "\u001b[32mLiberties copied correctly \u001b[0m\n",
      "\u001b[32mBoard copied correctly \u001b[0m\n"
     ]
    }
   ],
   "source": [
    "from go import go_board\n",
    "import numpy as np\n",
    "from collections import deque, Counter\n",
    "from termcolor import colored\n",
    "\n",
    "def convert_liberty_list(liberties,board_size=9):\n",
    "    new_liberties = np.zeros((board_size,board_size))\n",
    "    for i in range(board_size):\n",
    "        for j in range(board_size):\n",
    "            new_liberties[i,j] = liberties[i,j][0]\n",
    "    return new_liberties\n",
    "\n",
    "def check_board_group_liberties(test, right_board, right_groups, right_liberties):\n",
    "    num_test_failed = 0\n",
    "    # Check board\n",
    "    if np.array_equal(test.board,right_board):\n",
    "        print(colored(\"Board test succesfull\", \"green\"))\n",
    "    else:\n",
    "        num_test_failed += 1\n",
    "        print(colored(\"Board test failed\", \"red\"))\n",
    "\n",
    "        \n",
    "    # Check liberties\n",
    "    if np.array_equal(convert_liberty_list(test.liberties), right_liberties):\n",
    "        print(colored(\"Liberty test succesfull\", \"green\"))\n",
    "    else:\n",
    "        num_test_failed += 1\n",
    "        print(colored(\"Liberty test failed\", \"red\"))\n",
    "    return num_test_failed\n",
    "\n",
    "# Board initializing test\n",
    "num_test_failed = 0\n",
    "test = go_board(9)\n",
    "print(\"***** Board initialising tests *****\")\n",
    "board = np.zeros((9,9),dtype=\"int8\")\n",
    "\n",
    "groups = np.array([[0, 0, 0, 0, 0, 0, 0, 0, 0],\n",
    "       [0, 0, 0, 0, 0, 0, 0, 0, 0],\n",
    "       [0, 0, 0, 0, 0, 0, 0, 0, 0],\n",
    "       [0, 0, 0, 0, 0, 0, 0, 0, 0],\n",
    "       [0, 0, 0, 0, 0, 0, 0, 0, 0],\n",
    "       [0, 0, 0, 0, 0, 0, 0, 0, 0],\n",
    "       [0, 0, 0, 0, 0, 0, 0, 0, 0],\n",
    "       [0, 0, 0, 0, 0, 0, 0, 0, 0],\n",
    "       [0, 0, 0, 0, 0, 0, 0, 0, 0]])\n",
    "liberties = np.array([[2., 3., 3., 3., 3., 3., 3., 3., 2.],\n",
    "       [3., 4., 4., 4., 4., 4., 4., 4., 3.],\n",
    "       [3., 4., 4., 4., 4., 4., 4., 4., 3.],\n",
    "       [3., 4., 4., 4., 4., 4., 4., 4., 3.],\n",
    "       [3., 4., 4., 4., 4., 4., 4., 4., 3.],\n",
    "       [3., 4., 4., 4., 4., 4., 4., 4., 3.],\n",
    "       [3., 4., 4., 4., 4., 4., 4., 4., 3.],\n",
    "       [3., 4., 4., 4., 4., 4., 4., 4., 3.],\n",
    "       [2., 3., 3., 3., 3., 3., 3., 3., 2.]])\n",
    "\n",
    "num_test_failed += check_board_group_liberties(test, board, groups, liberties)\n",
    "\n",
    "# Basic test\n",
    "print(\"***** Basic tests *****\")\n",
    "board = np.array([[0, 0, 0, 0, 0, 0, 0, 0, 0],\n",
    "       [0, 0, 0, 0, 0, 0, 0, 0, 0],\n",
    "       [0, 0, 0, 0, 0, 0, 0, 0, 0],\n",
    "       [0, 0, 0, 0, 0, 0, 0, 0, 0],\n",
    "       [0, 0, 0, 0, 1, 0, 0, 0, 0],\n",
    "       [0, 0, 0, 0, 0, 0, 0, 0, 0],\n",
    "       [0, 0, 0, 0, 0, 0, 0, 0, 0],\n",
    "       [0, 0, 0, 0, 0, 0, 0, 0, 0],\n",
    "       [0, 0, 0, 0, 0, 0, 0, 0, 0]])\n",
    "\n",
    "groups = np.array([[0, 0, 0, 0, 0, 0, 0, 0, 0],\n",
    "       [0, 0, 0, 0, 0, 0, 0, 0, 0],\n",
    "       [0, 0, 0, 0, 0, 0, 0, 0, 0],\n",
    "       [0, 0, 0, 0, 0, 0, 0, 0, 0],\n",
    "       [0, 0, 0, 0, 1, 0, 0, 0, 0],\n",
    "       [0, 0, 0, 0, 0, 0, 0, 0, 0],\n",
    "       [0, 0, 0, 0, 0, 0, 0, 0, 0],\n",
    "       [0, 0, 0, 0, 0, 0, 0, 0, 0],\n",
    "       [0, 0, 0, 0, 0, 0, 0, 0, 0]])\n",
    "\n",
    "liberties = np.array([[2., 3., 3., 3., 3., 3., 3., 3., 2.],\n",
    "       [3., 4., 4., 4., 4., 4., 4., 4., 3.],\n",
    "       [3., 4., 4., 4., 4., 4., 4., 4., 3.],\n",
    "       [3., 4., 4., 4., 3., 4., 4., 4., 3.],\n",
    "       [3., 4., 4., 3., 4., 3., 4., 4., 3.],\n",
    "       [3., 4., 4., 4., 3., 4., 4., 4., 3.],\n",
    "       [3., 4., 4., 4., 4., 4., 4., 4., 3.],\n",
    "       [3., 4., 4., 4., 4., 4., 4., 4., 3.],\n",
    "       [2., 3., 3., 3., 3., 3., 3., 3., 2.]])\n",
    "test.move((4,4),\"black\")\n",
    "num_test_failed += check_board_group_liberties(test, board, groups, liberties)\n",
    "\n",
    "# group test\n",
    "print(\"***** Group tests *****\")\n",
    "test.move((4,3),\"black\")\n",
    "test.move((3,3),\"black\")\n",
    "test.move((3,4),\"white\")\n",
    "\n",
    "board = np.array([[ 0,  0,  0,  0,  0,  0,  0,  0,  0],\n",
    "                   [ 0,  0,  0,  0,  0,  0,  0,  0,  0],\n",
    "                   [ 0,  0,  0,  0,  0,  0,  0,  0,  0],\n",
    "                   [ 0,  0,  0,  1, -1,  0,  0,  0,  0],\n",
    "                   [ 0,  0,  0,  1,  1,  0,  0,  0,  0],\n",
    "                   [ 0,  0,  0,  0,  0,  0,  0,  0,  0],\n",
    "                   [ 0,  0,  0,  0,  0,  0,  0,  0,  0],\n",
    "                   [ 0,  0,  0,  0,  0,  0,  0,  0,  0],\n",
    "                   [ 0,  0,  0,  0,  0,  0,  0,  0,  0]])\n",
    "groups = np.array([[0, 0, 0, 0, 0, 0, 0, 0, 0],\n",
    "                   [0, 0, 0, 0, 0, 0, 0, 0, 0],\n",
    "                   [0, 0, 0, 0, 0, 0, 0, 0, 0],\n",
    "                   [0, 0, 0, 3, 4, 0, 0, 0, 0],\n",
    "                   [0, 0, 0, 3, 3, 0, 0, 0, 0],\n",
    "                   [0, 0, 0, 0, 0, 0, 0, 0, 0],\n",
    "                   [0, 0, 0, 0, 0, 0, 0, 0, 0],\n",
    "                   [0, 0, 0, 0, 0, 0, 0, 0, 0],\n",
    "                   [0, 0, 0, 0, 0, 0, 0, 0, 0]])\n",
    "liberties = np.array([[2., 3., 3., 3., 3., 3., 3., 3., 2.],\n",
    "                   [3., 4., 4., 4., 4., 4., 4., 4., 3.],\n",
    "                   [3., 4., 4., 3., 3., 4., 4., 4., 3.],\n",
    "                   [3., 4., 3., 6., 2., 3., 4., 4., 3.],\n",
    "                   [3., 4., 3., 6., 6., 3., 4., 4., 3.],\n",
    "                   [3., 4., 4., 3., 3., 4., 4., 4., 3.],\n",
    "                   [3., 4., 4., 4., 4., 4., 4., 4., 3.],\n",
    "                   [3., 4., 4., 4., 4., 4., 4., 4., 3.],\n",
    "                   [2., 3., 3., 3., 3., 3., 3., 3., 2.]])\n",
    "num_test_failed += check_board_group_liberties(test, board, groups, liberties)\n",
    "\n",
    "\n",
    "# capture test test\n",
    "print(\"***** Capture tests *****\")\n",
    "print (\"Non-self capture test\")\n",
    "test.move((3,5),\"black\")\n",
    "test.move((2,4),\"white\")\n",
    "board = np.array([[ 0,  0,  0,  0,  0,  0,  0,  0,  0],\n",
    "       [ 0,  0,  0,  0,  0,  0,  0,  0,  0],\n",
    "       [ 0,  0,  0,  0, -1,  0,  0,  0,  0],\n",
    "       [ 0,  0,  0,  1, -1,  1,  0,  0,  0],\n",
    "       [ 0,  0,  0,  1,  1,  0,  0,  0,  0],\n",
    "       [ 0,  0,  0,  0,  0,  0,  0,  0,  0],\n",
    "       [ 0,  0,  0,  0,  0,  0,  0,  0,  0],\n",
    "       [ 0,  0,  0,  0,  0,  0,  0,  0,  0],\n",
    "       [ 0,  0,  0,  0,  0,  0,  0,  0,  0]])\n",
    "\n",
    "groups = np.array([[0, 0, 0, 0, 0, 0, 0, 0, 0],\n",
    "       [0, 0, 0, 0, 0, 0, 0, 0, 0],\n",
    "       [0, 0, 0, 0, 6, 0, 0, 0, 0],\n",
    "       [0, 0, 0, 3, 6, 5, 0, 0, 0],\n",
    "       [0, 0, 0, 3, 3, 0, 0, 0, 0],\n",
    "       [0, 0, 0, 0, 0, 0, 0, 0, 0],\n",
    "       [0, 0, 0, 0, 0, 0, 0, 0, 0],\n",
    "       [0, 0, 0, 0, 0, 0, 0, 0, 0],\n",
    "       [0, 0, 0, 0, 0, 0, 0, 0, 0]])\n",
    "liberties = np.array([[2., 3., 3., 3., 3., 3., 3., 3., 2.],\n",
    "       [3., 4., 4., 4., 3., 4., 4., 4., 3.],\n",
    "       [3., 4., 4., 2., 3., 2., 4., 4., 3.],\n",
    "       [3., 4., 3., 6., 3., 3., 3., 4., 3.],\n",
    "       [3., 4., 3., 6., 6., 2., 4., 4., 3.],\n",
    "       [3., 4., 4., 3., 3., 4., 4., 4., 3.],\n",
    "       [3., 4., 4., 4., 4., 4., 4., 4., 3.],\n",
    "       [3., 4., 4., 4., 4., 4., 4., 4., 3.],\n",
    "       [2., 3., 3., 3., 3., 3., 3., 3., 2.]])\n",
    "num_test_failed += check_board_group_liberties(test, board, groups, liberties)\n",
    "\n",
    "print(\"Double capture\")\n",
    "test.move((1,4),\"white\")\n",
    "test.move((0,4),\"white\")\n",
    "test.move((0,3),\"black\")\n",
    "test.move((0,5),\"black\")\n",
    "test.move((1,5),\"black\")\n",
    "test.move((2,5),\"black\")\n",
    "test.move((1,3),\"black\")\n",
    "test.move((2,3),\"black\")\n",
    "\n",
    "board = np.array([[0, 0, 0, 1, 0, 1, 0, 0, 0],\n",
    "       [0, 0, 0, 1, 0, 1, 0, 0, 0],\n",
    "       [0, 0, 0, 1, 0, 1, 0, 0, 0],\n",
    "       [0, 0, 0, 1, 0, 1, 0, 0, 0],\n",
    "       [0, 0, 0, 1, 1, 0, 0, 0, 0],\n",
    "       [0, 0, 0, 0, 0, 0, 0, 0, 0],\n",
    "       [0, 0, 0, 0, 0, 0, 0, 0, 0],\n",
    "       [0, 0, 0, 0, 0, 0, 0, 0, 0],\n",
    "       [0, 0, 0, 0, 0, 0, 0, 0, 0]])\n",
    "groups = np.array([[ 0,  0,  0, 14,  0, 12,  0,  0,  0],\n",
    "       [ 0,  0,  0, 14,  0, 12,  0,  0,  0],\n",
    "       [ 0,  0,  0, 14,  0, 12,  0,  0,  0],\n",
    "       [ 0,  0,  0, 14,  0, 12,  0,  0,  0],\n",
    "       [ 0,  0,  0, 14, 14,  0,  0,  0,  0],\n",
    "       [ 0,  0,  0,  0,  0,  0,  0,  0,  0],\n",
    "       [ 0,  0,  0,  0,  0,  0,  0,  0,  0],\n",
    "       [ 0,  0,  0,  0,  0,  0,  0,  0,  0],\n",
    "       [ 0,  0,  0,  0,  0,  0,  0,  0,  0]])\n",
    "liberties = np.array( [[ 2.,  3.,  2., 12.,  1.,  9.,  2.,  3.,  2.],\n",
    "                       [ 3.,  4.,  3., 12.,  2.,  9.,  3.,  4.,  3.],\n",
    "                       [ 3.,  4.,  3., 12.,  2.,  9.,  3.,  4.,  3.],\n",
    "                       [ 3.,  4.,  3., 12.,  1.,  9.,  3.,  4.,  3.],\n",
    "                       [ 3.,  4.,  3., 12., 12.,  2.,  4.,  4.,  3.],\n",
    "                       [ 3.,  4.,  4.,  3.,  3.,  4.,  4.,  4.,  3.],\n",
    "                       [ 3.,  4.,  4.,  4.,  4.,  4.,  4.,  4.,  3.],\n",
    "                       [ 3.,  4.,  4.,  4.,  4.,  4.,  4.,  4.,  3.],\n",
    "                       [ 2.,  3.,  3.,  3.,  3.,  3.,  3.,  3.,  2.]])\n",
    "\n",
    "\n",
    "num_test_failed += check_board_group_liberties(test, board, groups, liberties)\n",
    "\n",
    "\n",
    "# Check Ko rule\n",
    "print(\"Checking Ko\")\n",
    "#test.move((4,5),\"black\")\n",
    "test = go_board(9)\n",
    "test.move((1,4),\"black\")\n",
    "test.move((2,3),\"black\")\n",
    "test.move((2,5),\"black\")\n",
    "test.move((3,4),\"black\")\n",
    "test.move((3,3),\"white\")\n",
    "test.move((3,5),\"white\")\n",
    "test.move((4,4),\"white\")\n",
    "test.move((2,4),\"white\")\n",
    "\n",
    "\n",
    "black_ko_board = np.array([[1, 1, 1, 1, 1, 1, 1, 1, 1],\n",
    "       [1, 1, 1, 1, 0, 1, 1, 1, 1],\n",
    "       [1, 1, 1, 0, 0, 0, 1, 1, 1],\n",
    "       [1, 1, 1, 0, 0, 0, 1, 1, 1],\n",
    "       [1, 1, 1, 1, 0, 1, 1, 1, 1],\n",
    "       [1, 1, 1, 1, 1, 1, 1, 1, 1],\n",
    "       [1, 1, 1, 1, 1, 1, 1, 1, 1],\n",
    "       [1, 1, 1, 1, 1, 1, 1, 1, 1],\n",
    "       [1, 1, 1, 1, 1, 1, 1, 1, 1]])\n",
    "white_ko_board = np.array([[1, 1, 1, 1, 1, 1, 1, 1, 1],\n",
    "       [1, 1, 1, 1, 0, 1, 1, 1, 1],\n",
    "       [1, 1, 1, 0, 0, 0, 1, 1, 1],\n",
    "       [1, 1, 1, 0, 1, 0, 1, 1, 1],\n",
    "       [1, 1, 1, 1, 0, 1, 1, 1, 1],\n",
    "       [1, 1, 1, 1, 1, 1, 1, 1, 1],\n",
    "       [1, 1, 1, 1, 1, 1, 1, 1, 1],\n",
    "       [1, 1, 1, 1, 1, 1, 1, 1, 1],\n",
    "       [1, 1, 1, 1, 1, 1, 1, 1, 1]])\n",
    "\n",
    "if (np.array_equal(test.get_legal_board(\"black\"),black_ko_board)):\n",
    "    print(colored(\"Ko obeyd\", \"green\"))\n",
    "\n",
    "else:\n",
    "    print(colored(\"Ko not obeyd succesfull\", \"red\"))\n",
    "\n",
    "if (np.array_equal(test.get_legal_board(\"white\"),white_ko_board)):\n",
    "    print(colored(\"Ko correctly ignored\", \"green\"))\n",
    "\n",
    "else:\n",
    "    print(colored(\"Ko should have been ignored\", \"red\"))\n",
    "\n",
    "\"\"\"\n",
    "print(\"blackboard was:\")\n",
    "print(test.get_legal_board(\"black\"))\n",
    "print(\"black board should have benn:\")\n",
    "print(black_ko_board)\n",
    "\n",
    "print(\"white  was:\")\n",
    "print(test.get_legal_board(\"white\"))\n",
    "print(\"white board should have benn:\")\n",
    "print(white_ko_board)\n",
    "\"\"\"\n",
    "# Legal moves checker\n",
    "print(\"Checking legal move checker\")\n",
    "#test.move((4,5),\"black\")\n",
    "test = go_board(9)\n",
    "if (test.get_legal_board(\"black\")[3,5]==0):\n",
    "    print(\"test failed\")\n",
    "test.move((3,5),\"black\")\n",
    "if (test.get_legal_board(\"white\")[5,2]==0):\n",
    "    print(\"test failed\")\n",
    "test.move((5,2),\"white\")\n",
    "if (test.get_legal_board(\"black\")[6,4]==0):\n",
    "    print(\"test failed\")\n",
    "test.move((6,4),\"black\")\n",
    "if (test.get_legal_board(\"white\")[3,3]==0):\n",
    "    print(\"test failed\")\n",
    "test.move((3,3),\"white\")\n",
    "if (test.get_legal_board(\"black\")[2,3]==0):\n",
    "    print(\"test failed\")\n",
    "test.move((2,3),\"black\")\n",
    "if (test.get_legal_board(\"white\")[2,2]==0):\n",
    "    print(\"test failed\")\n",
    "test.move((2,2),\"white\")\n",
    "if (test.get_legal_board(\"black\")[4,3]==0):\n",
    "    print(\"test failed\")\n",
    "test.move((4,3),\"black\")\n",
    "if (test.get_legal_board(\"white\")[3,2]==0):\n",
    "    print(\"test failed\")\n",
    "test.move((3,2),\"white\")\n",
    "if (test.get_legal_board(\"black\")[3,4]==0):\n",
    "    print(\"test failed\")\n",
    "test.move((3,4),\"black\")\n",
    "if (test.get_legal_board(\"white\")[4,7]==0):\n",
    "    print(\"test failed\")\n",
    "test.move((4,7),\"white\")\n",
    "if (test.get_legal_board(\"black\")[4,2]==0):\n",
    "    print(\"test failed\")\n",
    "test.move((4,2),\"black\")\n",
    "if (test.get_legal_board(\"white\")[4,1]==0):\n",
    "    print(\"test failed\")\n",
    "test.move((4,1),\"white\")\n",
    "if (test.get_legal_board(\"black\")[5,3]==0):\n",
    "    print(\"test failed\")\n",
    "test.move((5,3),\"black\")\n",
    "if (test.get_legal_board(\"white\")[5,1]==0):\n",
    "    print(\"test failed\")\n",
    "test.move((5,1),\"white\")\n",
    "if (test.get_legal_board(\"black\")[3,7]==0):\n",
    "    print(\"test failed\")\n",
    "test.move((3,7),\"black\")\n",
    "if (test.get_legal_board(\"white\")[4,6]==0):\n",
    "    print(\"test failed\")\n",
    "test.move((4,6),\"white\")\n",
    "if (test.get_legal_board(\"black\")[3,6]==0):\n",
    "    print(\"test failed\")\n",
    "test.move((3,6),\"black\")\n",
    "if (test.get_legal_board(\"white\")[6,6]==0):\n",
    "    print(\"test failed\")\n",
    "test.move((6,6),\"white\")\n",
    "if (test.get_legal_board(\"black\")[1,3]==0):\n",
    "    print(\"test failed\")\n",
    "test.move((1,3),\"black\")\n",
    "if (test.get_legal_board(\"white\")[1,2]==0):\n",
    "    print(\"test failed\")\n",
    "test.move((1,2),\"white\")\n",
    "if (test.get_legal_board(\"black\")[6,2]==0):\n",
    "    print(\"test failed\")\n",
    "test.move((6,2),\"black\")\n",
    "if (test.get_legal_board(\"white\")[6,1]==0):\n",
    "    print(\"test failed\")\n",
    "test.move((6,1),\"white\")\n",
    "if (test.get_legal_board(\"black\")[7,6]==0):\n",
    "    print(\"test failed\")\n",
    "test.move((7,6),\"black\")\n",
    "if (test.get_legal_board(\"white\")[7,5]==0):\n",
    "    print(\"test failed\")\n",
    "test.move((7,5),\"white\")\n",
    "if (test.get_legal_board(\"black\")[7,7]==0):\n",
    "    print(\"test failed\")\n",
    "test.move((7,7),\"black\")\n",
    "if (test.get_legal_board(\"white\")[6,5]==0):\n",
    "    print(\"test failed\")\n",
    "test.move((6,5),\"white\")\n",
    "if (test.get_legal_board(\"black\")[7,4]==0):\n",
    "    print(\"test failed\")\n",
    "test.move((7,4),\"black\")\n",
    "if (test.get_legal_board(\"white\")[8,4]==0):\n",
    "    print(\"test failed\")\n",
    "test.move((8,4),\"white\")\n",
    "if (test.get_legal_board(\"black\")[8,3]==0):\n",
    "    print(\"test failed\")\n",
    "test.move((8,3),\"black\")\n",
    "if (test.get_legal_board(\"white\")[8,5]==0):\n",
    "    print(\"test failed\")\n",
    "test.move((8,5),\"white\")\n",
    "if (test.get_legal_board(\"black\")[6,7]==0):\n",
    "    print(\"test failed\")\n",
    "test.move((6,7),\"black\")\n",
    "if (test.get_legal_board(\"white\")[7,3]==0):\n",
    "    print(\"test failed\")\n",
    "test.move((7,3),\"white\")\n",
    "if (test.get_legal_board(\"black\")[7,2]==0):\n",
    "    print(\"test failed\")\n",
    "test.move((7,2),\"black\")\n",
    "if (test.get_legal_board(\"white\")[8,2]==0):\n",
    "    print(\"test failed\")\n",
    "test.move((8,2),\"white\")\n",
    "if (test.get_legal_board(\"black\")[7,1]==0):\n",
    "    print(\"test failed\")\n",
    "test.move((7,1),\"black\")\n",
    "if (test.get_legal_board(\"white\")[5,5]==0):\n",
    "    print(\"test failed\")\n",
    "test.move((5,5),\"white\")\n",
    "if (test.get_legal_board(\"black\")[4,5]==0):\n",
    "    print(\"test failed\")\n",
    "test.move((4,5),\"black\")\n",
    "if (test.get_legal_board(\"white\")[5,7]==0):\n",
    "    print(\"test failed\")\n",
    "test.move((5,7),\"white\")\n",
    "if (test.get_legal_board(\"black\")[3,8]==0):\n",
    "    print(\"test failed\")\n",
    "test.move((3,8),\"black\")\n",
    "if (test.get_legal_board(\"white\")[8,1]==0):\n",
    "    print(\"test failed\")\n",
    "test.move((8,1),\"white\")\n",
    "if (test.get_legal_board(\"black\")[7,0]==0):\n",
    "    print(\"test failed\")\n",
    "test.move((7,0),\"black\")\n",
    "if (test.get_legal_board(\"white\")[5,4]==0):\n",
    "    print(\"test failed\")\n",
    "test.move((5,4),\"white\")\n",
    "if (test.get_legal_board(\"black\")[6,3]==0):\n",
    "    print(\"test failed\")\n",
    "test.move((6,3),\"black\")\n",
    "if (test.get_legal_board(\"white\")[4,4]==0):\n",
    "    print(\"test failed\")\n",
    "test.move((4,4),\"white\")\n",
    "if (test.get_legal_board(\"black\")[8,3]==0):\n",
    "    print(\"test failed\")\n",
    "test.move((8,3),\"black\")\n",
    "if (test.get_legal_board(\"white\")[6,8]==0):\n",
    "    print(\"test failed\")\n",
    "test.move((6,8),\"white\")\n",
    "if (test.get_legal_board(\"black\")[8,0]==0):\n",
    "    print(\"test failed\")\n",
    "test.move((8,0),\"black\")\n",
    "if (test.get_legal_board(\"white\")[7,8]==0):\n",
    "    print(\"test failed\")\n",
    "test.move((7,8),\"white\")\n",
    "if (test.get_legal_board(\"black\")[1,5]==0):\n",
    "    print(\"test failed\")\n",
    "test.move((1,5),\"black\")\n",
    "if (test.get_legal_board(\"white\")[8,7]==0):\n",
    "    print(\"test failed\")\n",
    "test.move((8,7),\"white\")\n",
    "if (test.get_legal_board(\"black\")[6,0]==0):\n",
    "    print(\"test failed\")\n",
    "test.move((6,0),\"black\")\n",
    "if (test.get_legal_board(\"white\")[1,0]==0):\n",
    "    print(\"test failed\")\n",
    "test.move((1,0),\"white\")\n",
    "if (test.get_legal_board(\"black\")[2,1]==0):\n",
    "    print(\"test failed\")\n",
    "test.move((2,1),\"white\")\n",
    "if (test.get_legal_board(\"white\")[4,0]==0):\n",
    "    print(\"test failed\")\n",
    "test.move((4,0),\"black\")\n",
    "if (test.get_legal_board(\"black\")[3,0]==0):\n",
    "    print(\"test failed\")\n",
    "test.move((3,0),\"white\")\n",
    "if (test.get_legal_board(\"white\")[5,0]==0):\n",
    "    print(\"test failed\")\n",
    "test.move((5,0),\"black\")\n",
    "if (test.get_legal_board(\"black\")[3,1]==0):\n",
    "    print(\"test failed\")\n",
    "test.move((3,1),\"white\")\n",
    "if (test.get_legal_board(\"white\")[0,2]==0):\n",
    "    print(\"test failed\")\n",
    "test.move((0,2),\"black\")\n",
    "if (test.get_legal_board(\"black\")[0,1]==0):\n",
    "    print(\"test failed\")\n",
    "test.move((0,1),\"white\")\n",
    "if (test.get_legal_board(\"white\")[0,3]==0):\n",
    "    print(\"test failed\")\n",
    "test.move((0,3),\"black\")\n",
    "if (test.get_legal_board(\"black\")[4,8]==0):\n",
    "    print(\"test failed\")\n",
    "test.move((4,8),\"white\")\n",
    "\n",
    "print(\"Checking game score counter\")\n",
    "if (test.count_points()==5.5):\n",
    "    print(colored(\"Counted score was correct \", \"green\"))\n",
    "\n",
    "else:\n",
    "    print(colored(\"Counted score was correct not correct\", \"red\"))\n",
    "\n",
    "    \n",
    "    \n",
    "# Check if copying of game works\n",
    "old_board = np.copy(test.get_legal_board(\"black\"))\n",
    "old_liberties = np.copy(convert_liberty_list(test.liberties))\n",
    "\n",
    "new_test = test.copy_game()\n",
    "test.move((0,8),\"black\")\n",
    "\n",
    "\n",
    "\n",
    "print(\"Checking game copy mechanism\")\n",
    "if np.array_equal(convert_liberty_list(new_test.liberties), old_liberties):\n",
    "    print(colored(\"Liberties copied correctly \", \"green\"))\n",
    "else:\n",
    "    print(colored(\"Liberties was not copied correctly\", \"red\"))\n",
    "    \n",
    "if np.array_equal(new_test.get_legal_board(\"black\"), old_board):\n",
    "    print(colored(\"Board copied correctly \", \"green\"))\n",
    "else:\n",
    "    print(colored(\"Board was not copied correctly\", \"red\"))"
   ]
  },
  {
   "cell_type": "code",
   "execution_count": 2,
   "metadata": {},
   "outputs": [
    {
     "data": {
      "text/plain": [
       "array([[ 0,  0,  0,  1, -1,  1,  0,  0,  0],\n",
       "       [ 0,  0,  0,  1, -1,  1,  0,  0,  0],\n",
       "       [ 0,  0,  0,  1,  0,  1,  0,  0,  0],\n",
       "       [ 0,  0,  0,  0,  0,  0,  0,  0,  0],\n",
       "       [ 0,  0,  0,  0,  0,  0,  0,  0,  0],\n",
       "       [ 0,  0,  0,  0,  0,  0,  0,  0,  0],\n",
       "       [ 0,  0,  0,  0,  0,  0,  0,  0,  0],\n",
       "       [ 0,  0,  0,  0,  0,  0,  0,  0,  0],\n",
       "       [ 0,  0,  0,  0,  0,  0,  0,  0,  0]], dtype=int8)"
      ]
     },
     "execution_count": 2,
     "metadata": {},
     "output_type": "execute_result"
    }
   ],
   "source": [
    "test = go_board(9)\n",
    "test.move((1,4),\"white\")\n",
    "test.move((0,4),\"white\")\n",
    "test.move((0,3),\"black\")\n",
    "test.move((0,5),\"black\")\n",
    "test.move((1,5),\"black\")\n",
    "test.move((2,5),\"black\")\n",
    "test.move((1,3),\"black\")\n",
    "test.move((2,3),\"black\")\n",
    "test.board"
   ]
  },
  {
   "cell_type": "code",
   "execution_count": 3,
   "metadata": {},
   "outputs": [
    {
     "data": {
      "text/plain": [
       "array([[False, False, False, False, False, False, False, False, False],\n",
       "       [False, False, False, False, False, False, False, False, False],\n",
       "       [False, False, False, False, False, False, False, False, False],\n",
       "       [False, False, False, False, False, False, False, False, False],\n",
       "       [False, False, False, False, False, False, False, False, False],\n",
       "       [False, False, False, False, False, False, False, False, False],\n",
       "       [False, False, False, False, False, False, False, False, False],\n",
       "       [False, False, False, False, False, False, False, False, False],\n",
       "       [False, False, False, False, False, False, False, False, False]])"
      ]
     },
     "execution_count": 3,
     "metadata": {},
     "output_type": "execute_result"
    }
   ],
   "source": [
    "test.get_state(\"white\")[15,:,:]"
   ]
  },
  {
   "cell_type": "code",
   "execution_count": 5,
   "metadata": {},
   "outputs": [
    {
     "data": {
      "text/plain": [
       "(17, 9, 9)"
      ]
     },
     "execution_count": 5,
     "metadata": {},
     "output_type": "execute_result"
    }
   ],
   "source": [
    "test.get_state(\"white\").shape"
   ]
  },
  {
   "cell_type": "code",
   "execution_count": 6,
   "metadata": {},
   "outputs": [
    {
     "data": {
      "text/plain": [
       "74.5"
      ]
     },
     "execution_count": 6,
     "metadata": {},
     "output_type": "execute_result"
    }
   ],
   "source": [
    "test.move((1,5),\"black\")\n",
    "test.get_legal_board(\"white\")\n",
    "test.count_points()"
   ]
  },
  {
   "cell_type": "code",
   "execution_count": 1,
   "metadata": {},
   "outputs": [
    {
     "ename": "NameError",
     "evalue": "name 'go_board' is not defined",
     "output_type": "error",
     "traceback": [
      "\u001b[0;31m---------------------------------------------------------------------------\u001b[0m",
      "\u001b[0;31mNameError\u001b[0m                                 Traceback (most recent call last)",
      "\u001b[0;32m<ipython-input-1-e0a100dc3e92>\u001b[0m in \u001b[0;36m<module>\u001b[0;34m\u001b[0m\n\u001b[0;32m----> 1\u001b[0;31m \u001b[0mtest\u001b[0m \u001b[0;34m=\u001b[0m \u001b[0mgo_board\u001b[0m\u001b[0;34m(\u001b[0m\u001b[0;36m9\u001b[0m\u001b[0;34m)\u001b[0m\u001b[0;34m\u001b[0m\u001b[0;34m\u001b[0m\u001b[0m\n\u001b[0m\u001b[1;32m      2\u001b[0m \u001b[0mtest\u001b[0m\u001b[0;34m.\u001b[0m\u001b[0mmove\u001b[0m\u001b[0;34m(\u001b[0m\u001b[0;34m(\u001b[0m\u001b[0;36m1\u001b[0m\u001b[0;34m,\u001b[0m\u001b[0;36m4\u001b[0m\u001b[0;34m)\u001b[0m\u001b[0;34m,\u001b[0m\u001b[0;34m\"black\"\u001b[0m\u001b[0;34m)\u001b[0m\u001b[0;34m\u001b[0m\u001b[0;34m\u001b[0m\u001b[0m\n\u001b[1;32m      3\u001b[0m \u001b[0mtest\u001b[0m\u001b[0;34m.\u001b[0m\u001b[0mmove\u001b[0m\u001b[0;34m(\u001b[0m\u001b[0;34m(\u001b[0m\u001b[0;36m2\u001b[0m\u001b[0;34m,\u001b[0m\u001b[0;36m3\u001b[0m\u001b[0;34m)\u001b[0m\u001b[0;34m,\u001b[0m\u001b[0;34m\"black\"\u001b[0m\u001b[0;34m)\u001b[0m\u001b[0;34m\u001b[0m\u001b[0;34m\u001b[0m\u001b[0m\n\u001b[1;32m      4\u001b[0m \u001b[0mtest\u001b[0m\u001b[0;34m.\u001b[0m\u001b[0mmove\u001b[0m\u001b[0;34m(\u001b[0m\u001b[0;34m(\u001b[0m\u001b[0;36m2\u001b[0m\u001b[0;34m,\u001b[0m\u001b[0;36m5\u001b[0m\u001b[0;34m)\u001b[0m\u001b[0;34m,\u001b[0m\u001b[0;34m\"black\"\u001b[0m\u001b[0;34m)\u001b[0m\u001b[0;34m\u001b[0m\u001b[0;34m\u001b[0m\u001b[0m\n\u001b[1;32m      5\u001b[0m \u001b[0mtest\u001b[0m\u001b[0;34m.\u001b[0m\u001b[0mmove\u001b[0m\u001b[0;34m(\u001b[0m\u001b[0;34m(\u001b[0m\u001b[0;36m3\u001b[0m\u001b[0;34m,\u001b[0m\u001b[0;36m4\u001b[0m\u001b[0;34m)\u001b[0m\u001b[0;34m,\u001b[0m\u001b[0;34m\"black\"\u001b[0m\u001b[0;34m)\u001b[0m\u001b[0;34m\u001b[0m\u001b[0;34m\u001b[0m\u001b[0m\n",
      "\u001b[0;31mNameError\u001b[0m: name 'go_board' is not defined"
     ]
    }
   ],
   "source": [
    "test = go_board(9)\n",
    "test.move((1,4),\"black\")\n",
    "test.move((2,3),\"black\")\n",
    "test.move((2,5),\"black\")\n",
    "test.move((3,4),\"black\")\n",
    "test.move((3,3),\"white\")\n",
    "test.move((3,5),\"white\")\n",
    "test.move((4,4),\"white\")\n",
    "test.move((2,4),\"white\")\n",
    "print(test.board)"
   ]
  },
  {
   "cell_type": "code",
   "execution_count": 2,
   "metadata": {},
   "outputs": [],
   "source": [
    "deque([(4, 4), (2, 4), (3, 5), (3, 3)])\n",
    "deque([(3, 4), (1, 4), (2, 5), (2, 3)])\n",
    "deque([(2, 4), (0, 4), (1, 5), (1, 3)])\n",
    "deque([(1, 4), (0, 5), (0, 3)])\n",
    "\n",
    "\n",
    "test = go_board(9)\n",
    "test.move((1,4),\"black\")\n",
    "test.move((0,4),\"black\")\n",
    "test.move((0,2),\"black\")\n",
    "test.move((1,2),\"black\")\n",
    "test.move((2,2),\"black\")\n",
    "test.move((2,3),\"black\")\n",
    "test.move((0,6),\"black\")\n",
    "test.move((1,6),\"black\")\n",
    "test.move((2,6),\"black\")\n",
    "test.move((2,5),\"black\")\n",
    "test.move((3,4),\"white\")\n",
    "test.move((2,4),\"black\")"
   ]
  },
  {
   "cell_type": "code",
   "execution_count": 2,
   "metadata": {},
   "outputs": [
    {
     "name": "stdout",
     "output_type": "stream",
     "text": [
      "board\n",
      "[[ 0  0  0  0  0  0  0  0  0]\n",
      " [ 0  0  0  0  1  0  0  0  0]\n",
      " [ 0  0  0  1 -1  1  0  0  0]\n",
      " [ 0  0  0 -1  0 -1  0  0  0]\n",
      " [ 0  0  0  0 -1  0  0  0  0]\n",
      " [ 0  0  0  0  0  0  0  0  0]\n",
      " [ 0  0  0  0  0  0  0  0  0]\n",
      " [ 0  0  0  0  0  0  0  0  0]\n",
      " [ 0  0  0  0  0  0  0  0  0]]\n",
      "groups\n",
      "[[0 0 0 0 0 0 0 0 0]\n",
      " [0 0 0 0 1 0 0 0 0]\n",
      " [0 0 0 2 8 3 0 0 0]\n",
      " [0 0 0 5 0 6 0 0 0]\n",
      " [0 0 0 0 7 0 0 0 0]\n",
      " [0 0 0 0 0 0 0 0 0]\n",
      " [0 0 0 0 0 0 0 0 0]\n",
      " [0 0 0 0 0 0 0 0 0]\n",
      " [0 0 0 0 0 0 0 0 0]]\n",
      "liberties\n",
      "[[2. 3. 3. 3. 2. 3. 3. 3. 2.]\n",
      " [3. 4. 4. 2. 3. 2. 4. 4. 3.]\n",
      " [3. 4. 3. 2. 1. 2. 3. 4. 3.]\n",
      " [3. 4. 3. 3. 0. 3. 3. 4. 3.]\n",
      " [3. 4. 4. 2. 4. 2. 4. 4. 3.]\n",
      " [3. 4. 4. 4. 3. 4. 4. 4. 3.]\n",
      " [3. 4. 4. 4. 4. 4. 4. 4. 3.]\n",
      " [3. 4. 4. 4. 4. 4. 4. 4. 3.]\n",
      " [2. 3. 3. 3. 3. 3. 3. 3. 2.]]\n"
     ]
    },
    {
     "data": {
      "text/plain": [
       "array([[1, 1, 1, 1, 1, 1, 1, 1, 1],\n",
       "       [1, 1, 1, 1, 0, 1, 1, 1, 1],\n",
       "       [1, 1, 1, 0, 0, 0, 1, 1, 1],\n",
       "       [1, 1, 1, 0, 0, 0, 1, 1, 1],\n",
       "       [1, 1, 1, 1, 0, 1, 1, 1, 1],\n",
       "       [1, 1, 1, 1, 1, 1, 1, 1, 1],\n",
       "       [1, 1, 1, 1, 1, 1, 1, 1, 1],\n",
       "       [1, 1, 1, 1, 1, 1, 1, 1, 1],\n",
       "       [1, 1, 1, 1, 1, 1, 1, 1, 1]], dtype=uint8)"
      ]
     },
     "execution_count": 2,
     "metadata": {},
     "output_type": "execute_result"
    }
   ],
   "source": [
    "#test.move((4,5),\"black\")\n",
    "test = go_board(9)\n",
    "test.move((1,4),\"black\")\n",
    "test.move((2,3),\"black\")\n",
    "test.move((2,5),\"black\")\n",
    "test.move((3,4),\"black\")\n",
    "test.move((3,3),\"white\")\n",
    "test.move((3,5),\"white\")\n",
    "test.move((4,4),\"white\")\n",
    "test.move((2,4),\"white\")\n",
    "print(\"board\")\n",
    "print(test.board)\n",
    "print(\"groups\")\n",
    "print(test.groups)\n",
    "print(\"liberties\")\n",
    "print(convert_liberty_list(test.liberties))\n",
    "test.get_legal_board(\"black\")"
   ]
  },
  {
   "cell_type": "code",
   "execution_count": 2,
   "metadata": {},
   "outputs": [
    {
     "data": {
      "text/plain": [
       "<go.go_board at 0x10eca21d0>"
      ]
     },
     "execution_count": 2,
     "metadata": {},
     "output_type": "execute_result"
    }
   ],
   "source": [
    "test"
   ]
  },
  {
   "cell_type": "code",
   "execution_count": 13,
   "metadata": {},
   "outputs": [],
   "source": [
    "test = go_board(9)\n",
    "test.move((3,5),\"black\")"
   ]
  },
  {
   "cell_type": "code",
   "execution_count": 16,
   "metadata": {},
   "outputs": [
    {
     "data": {
      "text/plain": [
       "array([[1, 1, 1, 1, 1, 1, 1, 1, 1],\n",
       "       [1, 1, 1, 1, 1, 1, 1, 1, 1],\n",
       "       [1, 1, 1, 1, 1, 1, 1, 1, 1],\n",
       "       [1, 1, 1, 1, 1, 0, 1, 1, 1],\n",
       "       [1, 1, 1, 1, 1, 1, 1, 1, 1],\n",
       "       [1, 1, 1, 1, 1, 1, 1, 1, 1],\n",
       "       [1, 1, 1, 1, 1, 1, 1, 1, 1],\n",
       "       [1, 1, 1, 1, 1, 1, 1, 1, 1],\n",
       "       [1, 1, 1, 1, 1, 1, 1, 1, 1]], dtype=uint8)"
      ]
     },
     "execution_count": 16,
     "metadata": {},
     "output_type": "execute_result"
    }
   ],
   "source": [
    "test.get_legal_board(\"black\")"
   ]
  },
  {
   "cell_type": "code",
   "execution_count": 3,
   "metadata": {},
   "outputs": [
    {
     "data": {
      "text/plain": [
       "5.5"
      ]
     },
     "execution_count": 3,
     "metadata": {},
     "output_type": "execute_result"
    }
   ],
   "source": []
  },
  {
   "cell_type": "code",
   "execution_count": 3,
   "metadata": {},
   "outputs": [
    {
     "data": {
      "text/plain": [
       "True"
      ]
     },
     "execution_count": 3,
     "metadata": {},
     "output_type": "execute_result"
    }
   ],
   "source": []
  },
  {
   "cell_type": "code",
   "execution_count": 20,
   "metadata": {},
   "outputs": [
    {
     "data": {
      "text/plain": [
       "0"
      ]
     },
     "execution_count": 20,
     "metadata": {},
     "output_type": "execute_result"
    }
   ],
   "source": [
    "\"\"\"\n",
    "print(\"board\")\n",
    "print(test.board)\n",
    "print(\"groups\")\n",
    "print(test.groups)\n",
    "print(\"liberties\")\n",
    "print(convert_liberty_list(test.liberties))\n",
    "test.get_legal_board(\"black\")\n",
    "\"\"\""
   ]
  },
  {
   "cell_type": "code",
   "execution_count": 5,
   "metadata": {},
   "outputs": [
    {
     "name": "stdout",
     "output_type": "stream",
     "text": [
      "[[ 3  3  3  3  3  3  3  3  3]\n",
      " [ 3  3  3  3  1  3  3  3  3]\n",
      " [ 3  3  3  1 -1  1  3  3  3]\n",
      " [ 3  3  3 -1  3 -1  3  3  3]\n",
      " [ 3  3  3  3 -1  3  3  3  3]\n",
      " [ 3  3  3  3  3  3  3  3  3]\n",
      " [ 3  3  3  3  3  3  3  3  3]\n",
      " [ 3  3  3  3  3  3  3  3  3]\n",
      " [ 3  3  3  3  3  3  3  3  3]]\n",
      "0\n",
      "1\n"
     ]
    }
   ],
   "source": [
    "point_board = test.board\n",
    "        \n",
    "# set neutral positions to value 3, to mark as unexplored\n",
    "for i in range(9):\n",
    "    for j in range(9):\n",
    "        if (point_board[i,j]==0):\n",
    "            point_board[i,j] = 3\n",
    "print(point_board)\n",
    "new_point_board, new_area, new_black, new_white = test.map_area(point_board, test.board_size, (3,4), deque([]), 0, 0)\n",
    "print(new_black)\n",
    "print(new_white)"
   ]
  },
  {
   "cell_type": "code",
   "execution_count": 4,
   "metadata": {},
   "outputs": [],
   "source": [
    "from collections import deque, Counter"
   ]
  },
  {
   "cell_type": "code",
   "execution_count": 5,
   "metadata": {},
   "outputs": [
    {
     "name": "stdout",
     "output_type": "stream",
     "text": [
      "Counter({1: 1, 2: 1, 3: 1, 4: 1})\n"
     ]
    }
   ],
   "source": [
    "neigh = deque([1,2,3,4])\n",
    "C = Counter()\n",
    "print(Counter(neigh))"
   ]
  },
  {
   "cell_type": "code",
   "execution_count": 3,
   "metadata": {},
   "outputs": [
    {
     "name": "stdout",
     "output_type": "stream",
     "text": [
      "Counter({1: 1, 2: 1, 3: 1, 4: 1})\n"
     ]
    }
   ],
   "source": [
    "for element in neigh:\n",
    "    C[element] += 1\n",
    "print(C)"
   ]
  },
  {
   "cell_type": "code",
   "execution_count": 2,
   "metadata": {},
   "outputs": [
    {
     "name": "stdout",
     "output_type": "stream",
     "text": [
      "deque([(1, 2), (3, 4), (10, 9), (7, 8), (2, 3), 2, 4, 6, 8])\n"
     ]
    }
   ],
   "source": [
    "test1 = deque([(1,2), (3,4), (10,9), (7,8), (2,3)])\n",
    "test2 = deque([2, 4, 6, 8])\n",
    "test3 = deque([0, 10])\n",
    "test1+=test2\n",
    "print(test1)"
   ]
  },
  {
   "cell_type": "code",
   "execution_count": 6,
   "metadata": {},
   "outputs": [
    {
     "data": {
      "text/plain": [
       "deque([[(3, 3), (1, 3), (2, 4), (2, 2)], [(6, 8), (4, 8), (5, 7)]])"
      ]
     },
     "execution_count": 6,
     "metadata": {},
     "output_type": "execute_result"
    }
   ],
   "source": [
    "deque(map(test.get_neighbours_fast,[(2,3), (5,8)]))"
   ]
  },
  {
   "cell_type": "code",
   "execution_count": 19,
   "metadata": {},
   "outputs": [
    {
     "name": "stdout",
     "output_type": "stream",
     "text": [
      "1\n",
      "1\n",
      "1\n",
      "1\n",
      "1\n",
      "1\n"
     ]
    },
    {
     "data": {
      "text/plain": [
       "array([[1, 1, 1],\n",
       "       [1, 1, 1]])"
      ]
     },
     "execution_count": 19,
     "metadata": {},
     "output_type": "execute_result"
    }
   ],
   "source": [
    "a = np.arange(6).reshape(2,3)\n",
    "b = np.ones((2,3))\n",
    "it = np.nditer(a, flags=['multi_index'], op_flags=['writeonly'])\n",
    "with it:\n",
    "    while not it.finished:\n",
    "        it[0] = b[it.multi_index[0],it.multi_index[1]]\n",
    "        it.iternext()\n",
    "a"
   ]
  },
  {
   "cell_type": "code",
   "execution_count": 10,
   "metadata": {},
   "outputs": [],
   "source": [
    "a = np.arange(6).reshape(2,3)\n",
    "a\n",
    "test1 = [(1,2), (0,1), (1,0)]"
   ]
  },
  {
   "cell_type": "code",
   "execution_count": 11,
   "metadata": {},
   "outputs": [
    {
     "data": {
      "text/plain": [
       "array([5, 1, 3])"
      ]
     },
     "execution_count": 11,
     "metadata": {},
     "output_type": "execute_result"
    }
   ],
   "source": [
    "a[tuple(zip(*test1))]"
   ]
  },
  {
   "cell_type": "code",
   "execution_count": 3,
   "metadata": {},
   "outputs": [
    {
     "ename": "IndexError",
     "evalue": "too many indices for array",
     "output_type": "error",
     "traceback": [
      "\u001b[0;31m---------------------------------------------------------------------------\u001b[0m",
      "\u001b[0;31mIndexError\u001b[0m                                Traceback (most recent call last)",
      "\u001b[0;32m<ipython-input-3-13514f8a4d09>\u001b[0m in \u001b[0;36m<module>\u001b[0;34m\u001b[0m\n\u001b[1;32m      1\u001b[0m \u001b[0mindex_list\u001b[0m \u001b[0;34m=\u001b[0m \u001b[0mtuple\u001b[0m\u001b[0;34m(\u001b[0m\u001b[0;34m[\u001b[0m\u001b[0;34m(\u001b[0m\u001b[0;36m0\u001b[0m\u001b[0;34m,\u001b[0m\u001b[0;36m1\u001b[0m\u001b[0;34m)\u001b[0m\u001b[0;34m,\u001b[0m \u001b[0;34m(\u001b[0m\u001b[0;36m0\u001b[0m\u001b[0;34m,\u001b[0m\u001b[0;36m0\u001b[0m\u001b[0;34m)\u001b[0m\u001b[0;34m,\u001b[0m \u001b[0;34m(\u001b[0m\u001b[0;36m1\u001b[0m\u001b[0;34m,\u001b[0m\u001b[0;36m1\u001b[0m\u001b[0;34m)\u001b[0m\u001b[0;34m]\u001b[0m\u001b[0;34m)\u001b[0m\u001b[0;34m\u001b[0m\u001b[0;34m\u001b[0m\u001b[0m\n\u001b[0;32m----> 2\u001b[0;31m \u001b[0ma\u001b[0m\u001b[0;34m[\u001b[0m\u001b[0mindex_list\u001b[0m\u001b[0;34m]\u001b[0m\u001b[0;34m\u001b[0m\u001b[0;34m\u001b[0m\u001b[0m\n\u001b[0m",
      "\u001b[0;31mIndexError\u001b[0m: too many indices for array"
     ]
    }
   ],
   "source": [
    "index_list = tuple([(0,1), (0,0), (1,1)])\n",
    "a[index_list]"
   ]
  },
  {
   "cell_type": "code",
   "execution_count": 29,
   "metadata": {},
   "outputs": [
    {
     "data": {
      "text/plain": [
       "array([False, False,  True])"
      ]
     },
     "execution_count": 29,
     "metadata": {},
     "output_type": "execute_result"
    }
   ],
   "source": [
    "liberties = np.array([1,2,3])\n",
    "colors = np.array([1,-1,1])\n",
    "\n",
    "(np.logical_xor(liberties<2,colors==1))\n"
   ]
  },
  {
   "cell_type": "code",
   "execution_count": 20,
   "metadata": {},
   "outputs": [
    {
     "data": {
      "text/plain": [
       "array([ 1, -1,  1])"
      ]
     },
     "execution_count": 20,
     "metadata": {},
     "output_type": "execute_result"
    }
   ],
   "source": [
    "colors"
   ]
  },
  {
   "cell_type": "code",
   "execution_count": 3,
   "metadata": {},
   "outputs": [],
   "source": [
    "def test_func(x):\n",
    "    return x[0]*(x[1]>2)"
   ]
  },
  {
   "cell_type": "code",
   "execution_count": 7,
   "metadata": {},
   "outputs": [
    {
     "data": {
      "text/plain": [
       "array([0, 3])"
      ]
     },
     "execution_count": 7,
     "metadata": {},
     "output_type": "execute_result"
    }
   ],
   "source": [
    "np.array(list(map(test_func, a)))"
   ]
  },
  {
   "cell_type": "code",
   "execution_count": 9,
   "metadata": {},
   "outputs": [
    {
     "data": {
      "text/plain": [
       "[array([9, 9])]"
      ]
     },
     "execution_count": 9,
     "metadata": {},
     "output_type": "execute_result"
    }
   ],
   "source": []
  },
  {
   "cell_type": "code",
   "execution_count": 2,
   "metadata": {},
   "outputs": [],
   "source": [
    "test_list = [1, 2, 2, 3, 3, 3, 4, 5, 5]"
   ]
  },
  {
   "cell_type": "code",
   "execution_count": 4,
   "metadata": {},
   "outputs": [],
   "source": [
    "C = Counter(test_list)"
   ]
  },
  {
   "cell_type": "code",
   "execution_count": 11,
   "metadata": {},
   "outputs": [
    {
     "data": {
      "text/plain": [
       "[(1, 1), (2, 2), (3, 3), (4, 1), (5, 2)]"
      ]
     },
     "execution_count": 11,
     "metadata": {},
     "output_type": "execute_result"
    }
   ],
   "source": [
    "list(C.items())"
   ]
  },
  {
   "cell_type": "code",
   "execution_count": 20,
   "metadata": {},
   "outputs": [],
   "source": [
    "from collections import deque, Counter\n",
    "def solution(data, n):\n",
    "    # Count number of occurences with a counter\n",
    "    C = Counter(data)\n",
    "    C = list(C.items())\n",
    "    # Construct the elements to be removed\n",
    "    black_list = deque([])\n",
    "    for element in C:\n",
    "        if element[1]>n:\n",
    "            black_list.append(element[0])\n",
    "    # Construct the returned list by running over data\n",
    "    new_data = deque([])\n",
    "    for entry in data:\n",
    "        if entry not in black_list:\n",
    "            new_data.append(entry)\n",
    "    return list(new_data)"
   ]
  },
  {
   "cell_type": "code",
   "execution_count": 24,
   "metadata": {},
   "outputs": [
    {
     "ename": "ValueError",
     "evalue": "too many values to unpack (expected 2)",
     "output_type": "error",
     "traceback": [
      "\u001b[0;31m---------------------------------------------------------------------------\u001b[0m",
      "\u001b[0;31mValueError\u001b[0m                                Traceback (most recent call last)",
      "\u001b[0;32m<ipython-input-24-bb9d0dc7a236>\u001b[0m in \u001b[0;36m<module>\u001b[0;34m\u001b[0m\n\u001b[1;32m      2\u001b[0m \u001b[0mtest2\u001b[0m \u001b[0;34m=\u001b[0m \u001b[0;34m[\u001b[0m\u001b[0;36m10\u001b[0m\u001b[0;34m,\u001b[0m\u001b[0;36m11\u001b[0m\u001b[0;34m,\u001b[0m\u001b[0;36m12\u001b[0m\u001b[0;34m,\u001b[0m\u001b[0;36m13\u001b[0m\u001b[0;34m,\u001b[0m\u001b[0;36m14\u001b[0m\u001b[0;34m]\u001b[0m\u001b[0;34m\u001b[0m\u001b[0;34m\u001b[0m\u001b[0m\n\u001b[1;32m      3\u001b[0m \u001b[0;34m\u001b[0m\u001b[0m\n\u001b[0;32m----> 4\u001b[0;31m \u001b[0;32mfor\u001b[0m \u001b[0mindex\u001b[0m\u001b[0;34m,\u001b[0m \u001b[0mvalue\u001b[0m \u001b[0;32min\u001b[0m \u001b[0mtest1\u001b[0m\u001b[0;34m,\u001b[0m\u001b[0mtest2\u001b[0m\u001b[0;34m:\u001b[0m\u001b[0;34m\u001b[0m\u001b[0;34m\u001b[0m\u001b[0m\n\u001b[0m\u001b[1;32m      5\u001b[0m     \u001b[0mprint\u001b[0m\u001b[0;34m(\u001b[0m\u001b[0;34m\"Index was\"\u001b[0m\u001b[0;34m,\u001b[0m \u001b[0mindex\u001b[0m\u001b[0;34m,\u001b[0m \u001b[0;34m\"value was\"\u001b[0m\u001b[0;34m,\u001b[0m \u001b[0mvalue\u001b[0m\u001b[0;34m)\u001b[0m\u001b[0;34m\u001b[0m\u001b[0;34m\u001b[0m\u001b[0m\n",
      "\u001b[0;31mValueError\u001b[0m: too many values to unpack (expected 2)"
     ]
    }
   ],
   "source": [
    "test1 = [1,2,3,4,5]\n",
    "test2 = [10,11,12,13,14]\n",
    "\n",
    "for index, value in test1,test2:\n",
    "    print(\"Index was\", index, \"value was\", value)"
   ]
  },
  {
   "cell_type": "code",
   "execution_count": 5,
   "metadata": {},
   "outputs": [
    {
     "name": "stderr",
     "output_type": "stream",
     "text": [
      "/Users/tirsgaard/anaconda3/lib/python3.7/site-packages/ipykernel_launcher.py:2: DeprecationWarning: In future, it will be an error for 'np.bool_' scalars to be interpreted as an index\n",
      "  \n"
     ]
    },
    {
     "data": {
      "text/plain": [
       "array([(), (), (), (1, 0), (1, 1), (1, 2)], dtype=object)"
      ]
     },
     "execution_count": 5,
     "metadata": {},
     "output_type": "execute_result"
    }
   ],
   "source": [
    "np.array(list(map(test_func, np.ndenumerate(a))))"
   ]
  },
  {
   "cell_type": "code",
   "execution_count": null,
   "metadata": {},
   "outputs": [],
   "source": [
    "from collections import deque, Counter\n",
    "def solution(data, n):\n",
    "    C = Counter(data)\n",
    "    C = list(C.items())\n",
    "    black_list = deque([])\n",
    "    for element in C:\n",
    "        if element[1]>n:\n",
    "            black_list.append(element[0])\n",
    "    new_data = deque([])\n",
    "    for entry in data:\n",
    "        if entry not in black_list:\n",
    "            new_data.append(entry)\n",
    "    return new_data"
   ]
  }
 ],
 "metadata": {
  "kernelspec": {
   "display_name": "Python 3",
   "language": "python",
   "name": "python3"
  },
  "language_info": {
   "codemirror_mode": {
    "name": "ipython",
    "version": 3
   },
   "file_extension": ".py",
   "mimetype": "text/x-python",
   "name": "python",
   "nbconvert_exporter": "python",
   "pygments_lexer": "ipython3",
   "version": "3.7.3"
  }
 },
 "nbformat": 4,
 "nbformat_minor": 2
}
